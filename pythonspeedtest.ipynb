{
 "cells": [
  {
   "cell_type": "code",
   "execution_count": 1,
   "metadata": {},
   "outputs": [],
   "source": [
    "import numpy as np\n",
    "\n",
    "\n",
    "class LinearRegressionNumpy:\n",
    "    def __init__(self, x, y):\n",
    "        # a = ((∑y)(∑x^2)-(∑x)(∑xy)) / (n(∑x^2) - (∑x)^2)\n",
    "        # b = (x(∑xy) - (∑x)(∑y)) / n(∑x^2) - (∑x)^2\n",
    "        if len(x) != len(y):\n",
    "            pass\n",
    "        # Get our Summations:\n",
    "        Σx = np.sum(x)\n",
    "        Σy = np.sum(y)\n",
    "        # dot x and y\n",
    "        # xy = [i * w for i, w in zip(x, y)]\n",
    "        xy = np.dot(x, y)\n",
    "        # ∑dot x and y\n",
    "        Σxy = np.sum(xy)\n",
    "        # dotsquare x\n",
    "        # x2 = [c ** 2 for c in x]\n",
    "        x2 = x ** 2\n",
    "        # ∑ dotsquare x\n",
    "        Σx2 = np.sum(x2)\n",
    "        # n = sample size\n",
    "        n = len(x)\n",
    "        # Calculate a\n",
    "        self.a = ((Σy * Σx2) - (Σx * Σxy)) / ((n * Σx2) - (Σx ** 2))\n",
    "        # Calculate b\n",
    "        self.b = ((n * Σxy) - (Σx * Σy)) / ((n * Σx2) - (Σx ** 2))\n",
    "        # The part that is super struct:\n",
    "\n",
    "    def predict(self, xt):\n",
    "        xt = [self.a + (self.b * i) for i in xt]\n",
    "        return xt\n",
    "    "
   ]
  },
  {
   "cell_type": "code",
   "execution_count": 2,
   "metadata": {},
   "outputs": [],
   "source": [
    "class LinearRegressionPurePython:\n",
    "    def __init__(self, x, y):\n",
    "        # a = ((∑y)(∑x^2)-(∑x)(∑xy)) / (n(∑x^2) - (∑x)^2)\n",
    "        # b = (x(∑xy) - (∑x)(∑y)) / n(∑x^2) - (∑x)^2\n",
    "        if len(x) != len(y):\n",
    "            pass\n",
    "        # Get our Summations:\n",
    "        Σx = sum(x)\n",
    "        Σy = sum(y)\n",
    "        # dot x and y\n",
    "        xy = [i * w for i, w in zip(x, y)]\n",
    "        # xy = np.dot(x, y)\n",
    "        # ∑dot x and y\n",
    "        Σxy = sum(xy)\n",
    "        # dotsquare x\n",
    "        x2 = [c ** 2 for c in x]\n",
    "        # x2 = x ** 2\n",
    "        # ∑ dotsquare x\n",
    "        Σx2 = sum(x2)\n",
    "        # n = sample size\n",
    "        n = len(x)\n",
    "        # Calculate a\n",
    "        self.a = ((Σy * Σx2) - (Σx * Σxy)) / ((n * Σx2) - (Σx ** 2))\n",
    "        # Calculate b\n",
    "        self.b = ((n * Σxy) - (Σx * Σy)) / ((n * Σx2) - (Σx ** 2))\n",
    "        # The part that is super struct:\n",
    "\n",
    "    def predict(self, xt):\n",
    "        xt = [self.a + (self.b * i) for i in xt]\n",
    "        return xt"
   ]
  },
  {
   "cell_type": "code",
   "execution_count": 3,
   "metadata": {},
   "outputs": [],
   "source": [
    "# Create random data.\n",
    "# The info on the julia randn function is not very clear, \n",
    "# so I randomly chose to scale the random numbers from -2.5 to + 2.5\n",
    "x = np.random.random(10000000) * 5 - 2.5  \n",
    "y = np.random.random(10000000) * 5 - 2.5\n",
    "test = np.random.random(600000) * 5 - 2.5\n"
   ]
  },
  {
   "cell_type": "code",
   "execution_count": 4,
   "metadata": {},
   "outputs": [
    {
     "name": "stdout",
     "output_type": "stream",
     "text": [
      "296 ms ± 17.5 ms per loop (mean ± std. dev. of 7 runs, 1 loop each)\n"
     ]
    }
   ],
   "source": [
    "%timeit LinearRegressionNumpy(x, y).predict(test)"
   ]
  },
  {
   "cell_type": "code",
   "execution_count": 5,
   "metadata": {},
   "outputs": [
    {
     "name": "stdout",
     "output_type": "stream",
     "text": [
      "8.87 s ± 71.6 ms per loop (mean ± std. dev. of 7 runs, 1 loop each)\n"
     ]
    }
   ],
   "source": [
    "%timeit LinearRegressionPurePython(x, y).predict(test)"
   ]
  }
 ],
 "metadata": {
  "kernelspec": {
   "display_name": "Python 3",
   "language": "python",
   "name": "python3"
  },
  "language_info": {
   "codemirror_mode": {
    "name": "ipython",
    "version": 3
   },
   "file_extension": ".py",
   "mimetype": "text/x-python",
   "name": "python",
   "nbconvert_exporter": "python",
   "pygments_lexer": "ipython3",
   "version": "3.7.6"
  }
 },
 "nbformat": 4,
 "nbformat_minor": 4
}
